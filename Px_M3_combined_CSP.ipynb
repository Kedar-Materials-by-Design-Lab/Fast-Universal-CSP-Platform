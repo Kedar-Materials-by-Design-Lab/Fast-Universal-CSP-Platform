{
 "cells": [
  {
   "cell_type": "code",
   "execution_count": 2,
   "id": "8ce686c9-8eab-4813-99c9-fb5adac4b195",
   "metadata": {},
   "outputs": [
    {
     "name": "stdout",
     "output_type": "stream",
     "text": [
      "2.0.1+cpu\n"
     ]
    }
   ],
   "source": [
    "from pyxtal import pyxtal\n",
    "from pyxtal.lattice import Lattice\n",
    "from pymatgen.core import Structure\n",
    "from pymatgen.core import Composition\n",
    "import pandas as pd\n",
    "import numpy as np\n",
    "import json\n",
    "from pyxtal.tolerance import Tol_matrix\n",
    "from datetime import datetime\n",
    "import os\n",
    "from pymatgen.analysis.structure_analyzer import SpacegroupAnalyzer\n",
    "from ase.io import read\n",
    "import matgl\n",
    "from matgl.ext.ase import M3GNetCalculator #, Relaxer\n",
    "from ase.spacegroup.symmetrize import FixSymmetry\n",
    "from ase.optimize import FIRE\n",
    "from ase.constraints import ExpCellFilter\n",
    "from ase import Atoms\n",
    "from ase.calculators.calculator import Calculator\n",
    "from ase.optimize.optimize import Optimizer\n",
    "from ase.optimize import FIRE, LBFGS, BFGSLineSearch\n",
    "from ase.io import read, write\n",
    "from ase.visualize import view\n",
    "from pymatgen.analysis import structure_matcher\n",
    "from pymatgen.io.ase import AseAtomsAdaptor\n",
    "import torch\n",
    "import re\n",
    "# from ase.visualize import view\n",
    "# import ase.optimize as opt\n",
    "print(torch.__version__)"
   ]
  },
  {
   "cell_type": "markdown",
   "id": "b03e1793-e2c2-4217-8eb5-120082a97703",
   "metadata": {
    "jp-MarkdownHeadingCollapsed": true
   },
   "source": [
    "# Load data"
   ]
  },
  {
   "cell_type": "markdown",
   "id": "a1af859d-5301-496c-bb4c-f6d3e47b1dbc",
   "metadata": {},
   "source": [
    "# Modes\n",
    "#### 1. Composition only\n",
    "#### 2. += Sapce Group\n",
    "#### 3. += Wyckoff Sites\n",
    "#### 4. += volume/lattice parameters"
   ]
  },
  {
   "cell_type": "code",
   "execution_count": 3,
   "id": "38bcd2eb-3e89-49ed-b88e-0d2710b2a7d5",
   "metadata": {},
   "outputs": [
    {
     "name": "stdout",
     "output_type": "stream",
     "text": [
      "3\n"
     ]
    }
   ],
   "source": [
    "test_formula = 'RbBiTe2'\n",
    "save_dir = 'temp_files/{}_example/'.format(test_formula)\n",
    "\n",
    "pymat_comp = Composition(test_formula)\n",
    "species = [i.value for i in pymat_comp.elements]\n",
    "test_ratio = np.array([pymat_comp.get_el_amt_dict()[i] for i in species])\n",
    "\n",
    "test_sg = 166\n",
    "# test_wyckoff = None\n",
    "test_wyckoff = [['3a'],['3b'],['6c']]\n",
    "test_volume = None\n",
    "# test_lattice = [5.6645, 10.715, 15.9032]\n",
    "test_lattice = None\n",
    "\n",
    "if test_wyckoff==None:\n",
    "    min_z = 1\n",
    "    max_z = int(40//np.sum(test_ratio))+1\n",
    "    if max_z>11:\n",
    "        max_z=11\n",
    "else:\n",
    "    tot_atom = np.sum([int(re.sub('[^0-9]','', j)) for i in test_wyckoff for j in i])\n",
    "    min_z = int(tot_atom/np.sum(test_ratio))\n",
    "    max_z = min_z+1\n",
    "\n",
    "z=min_z\n",
    "print(z)"
   ]
  },
  {
   "cell_type": "code",
   "execution_count": 4,
   "id": "c72c5b3c-e66b-4636-b829-c45e5b9c20ab",
   "metadata": {},
   "outputs": [
    {
     "name": "stdout",
     "output_type": "stream",
     "text": [
      "Generating structures using Pyxtal for formula: RbBiTe2\n",
      "Space group: 166 | Wyckoff setting: [['3a'], ['3b'], ['6c']] | Lattic parameters: None\n",
      "Testing 'z' from 3 to 3\n"
     ]
    }
   ],
   "source": [
    "print('Generating structures using Pyxtal for formula: {}'.format(test_formula))\n",
    "print('Space group: {} | Wyckoff setting: {} | Lattic parameters: {}'.format(test_sg,test_wyckoff,test_lattice))\n",
    "print(\"Testing 'z' from {} to {}\".format(min_z, max_z-1))"
   ]
  },
  {
   "cell_type": "code",
   "execution_count": 5,
   "id": "2ae3e717-af5c-48a4-ab94-7b258b90b1b6",
   "metadata": {},
   "outputs": [],
   "source": [
    "def scale_volume(strc_in: Structure, pred_vol: float):\n",
    "#     lattice_constant = strc_in.lattice.abc[0]\n",
    "#     # factor set as the cubic root of the ratio of volume\n",
    "#     scaling_factor = (pred_vol/strc_in.volume)**(1/3)\n",
    "#     print(\"Scaling factor for abc is: \", scaling_factor)\n",
    "#     scaled_abc = lattice_constant * scaling_factor\n",
    "    scaled_structure = strc_in.copy()\n",
    "    scaled_structure.scale_lattice(pred_vol)\n",
    "    print(f\"Volume is scaled from {strc_in.volume:.4f} to {scaled_structure.volume:.4f}\")\n",
    "    return scaled_structure"
   ]
  },
  {
   "cell_type": "code",
   "execution_count": 6,
   "id": "ccedf604-5d99-40b9-a503-af46ef88ff0e",
   "metadata": {},
   "outputs": [],
   "source": [
    "def get_pyxtal_structure(species,test_sg,test_ratio,z,test_wyckoff,test_lattice):\n",
    "\n",
    "    # read test input\n",
    "    test_ratio = test_ratio*z \n",
    "    test_angle = [90, 90, 90]\n",
    "\n",
    "    # temporary data processing\n",
    "    if not test_lattice==None:\n",
    "        if test_sg>=195:\n",
    "            test_lattice = [np.mean(test_lattice),np.mean(test_lattice),np.mean(test_lattice)]\n",
    "            ltype = 'cubic'\n",
    "        elif test_sg >= 143:\n",
    "            test_angle = [90, 90, 120]\n",
    "            test_lattice = [np.mean(test_lattice[:2]),np.mean(test_lattice[:2]),test_lattice[2]]\n",
    "            ltype = 'trigonal'\n",
    "            if test_sg>=168:\n",
    "                ltype = 'hexagonal'            \n",
    "        elif test_sg >=75:\n",
    "            test_lattice = [np.mean(test_lattice[:2]),np.mean(test_lattice[:2]),test_lattice[2]]\n",
    "            ltype = 'tetragonal'\n",
    "        else:\n",
    "            ltype = 'orthorhombic'\n",
    "    \n",
    "    # pyxtal crystal generation\n",
    "    inter_dis_mat = Tol_matrix(prototype=\"atomic\", factor=1.3)\n",
    "    lat_ = None\n",
    "    \n",
    "    if not test_lattice==None:\n",
    "        lat_ = Lattice.from_para(a=test_lattice[0],\n",
    "                                b=test_lattice[1],\n",
    "                                c=test_lattice[2],\n",
    "                                 alpha=test_angle[0],\n",
    "                                 beta=test_angle[1],\n",
    "                                 gamma=test_angle[2],\n",
    "                                ltype=ltype,\n",
    "                                )\n",
    "    structures = []\n",
    "    strc_pre = pyxtal()\n",
    "\n",
    "    try:\n",
    "        strc_pre.from_random(dim=3, group=test_sg, species=species,\n",
    "                                   lattice=lat_,numIons=test_ratio, sites=test_wyckoff, tm=inter_dis_mat)\n",
    "        print('Structure DoF = {}'.format(strc_pre.get_dof()))\n",
    "        strc_pre_pymatgen = strc_pre.to_pymatgen()\n",
    "        return strc_pre_pymatgen\n",
    "        \n",
    "    except Exception as e:\n",
    "        print('An exception occurred') \n",
    "        print(e.message)\n",
    "        return False\n",
    "    # strc_pre_set.get_dof()\n",
    "    # strc_pre_scaled = scale_volume(strc_pre_set.to_pymatgen(), test_volume)\n",
    "\n"
   ]
  },
  {
   "cell_type": "code",
   "execution_count": 7,
   "id": "1818f876-d080-4289-b709-7b420bea3cad",
   "metadata": {},
   "outputs": [],
   "source": [
    "# strc_pre_pymatgen = get_pyxtal_structure(species,test_sg,test_ratio,z,test_wyckoff,test_lattice)\n",
    "# sga = SpacegroupAnalyzer(strc_pre_pymatgen)\n",
    "# sga.get_symmetrized_structure()"
   ]
  },
  {
   "cell_type": "code",
   "execution_count": 8,
   "id": "f4aa5a4f-da87-47cb-8a9c-8e218d0244f3",
   "metadata": {},
   "outputs": [],
   "source": [
    "def ase_relaxer(\n",
    "    atoms_in: Atoms,\n",
    "    calculator: Calculator,\n",
    "    optimizer: Optimizer = FIRE,\n",
    "    cell_filter = None,\n",
    "    fix_symmetry: bool = True,\n",
    "    fix_fractional: bool = False,\n",
    "    hydrostatic_strain: bool = False,\n",
    "    fmax: float = 0.05,\n",
    "    steps_limit: int = 500,\n",
    "    logfile: str = \"-\",\n",
    "    wdir: str = \"./\",\n",
    ") -> Atoms:\n",
    "    atoms = atoms_in.copy()\n",
    "    full_formula = atoms.get_chemical_formula(mode=\"metal\")\n",
    "    reduced_formula = atoms.get_chemical_formula(mode=\"metal\", empirical=True)\n",
    "    atoms.calc = calculator\n",
    "    E0 = atoms.get_potential_energy()\n",
    "    if fix_fractional:\n",
    "        atoms.set_constraint([FixAtoms(indices=[atom.index for atom in atoms])])\n",
    "    if fix_symmetry:\n",
    "        atoms.set_constraint([FixSymmetry(atoms)])\n",
    "    if cell_filter is not None:\n",
    "        target = cell_filter(atoms, hydrostatic_strain=hydrostatic_strain)\n",
    "    else:\n",
    "        target = atoms\n",
    "    now = datetime.now()\n",
    "    strnow = now.strftime(\"%Y%m%d%H%M%S\")\n",
    "    opt = optimizer(target,\n",
    "#                     maxstep = max_step,\n",
    "                    trajectory=f'{wdir}/{reduced_formula}_{full_formula}_{strnow}.traj',\n",
    "                    logfile=logfile,\n",
    "                   )\n",
    "    opt.run(fmax=fmax, steps=steps_limit)\n",
    "    if cell_filter is None:\n",
    "        write(filename=f'{wdir}/{reduced_formula}_{full_formula}_fix_cell_relaxed_{strnow}.cif',\n",
    "          images=atoms,\n",
    "         format=\"cif\",\n",
    "         )\n",
    "    else:\n",
    "        write(filename=f'{wdir}/{reduced_formula}_{full_formula}_relax_postitions_and_cell_{strnow}.cif',\n",
    "          images=atoms,\n",
    "         format=\"cif\",\n",
    "         )\n",
    "    cell_diff = (atoms.cell.cellpar() / atoms_in.cell.cellpar() - 1.0) * 100\n",
    "    E1 = atoms.get_potential_energy()\n",
    "    # print(\"Optimized Cell         :\", atoms.cell.cellpar())\n",
    "    # print(\"Optimized Cell diff (%):\", cell_diff)\n",
    "    # print(\"Scaled positions       :\\n\", atoms.get_scaled_positions())\n",
    "    # print(f\"Potential energy before opt: {E0:.4f} eV\")\n",
    "    # print(f\"Potential energy after  opt: {E1:.4f} eV\")\n",
    "    \n",
    "    return atoms"
   ]
  },
  {
   "cell_type": "code",
   "execution_count": 9,
   "id": "c72e1ce4-d4eb-4279-a8a8-53a9469484a4",
   "metadata": {},
   "outputs": [],
   "source": [
    "def ase_m3gnet_relax(wdir, z,strc_pre_pymatgen):\n",
    "    # ase_m3gnet relaxation\n",
    "    pot = matgl.load_model(\"M3GNet-MP-2021.2.8-PES\")\n",
    "    calculator = M3GNetCalculator(potential=pot,stress_weight=1 / 160.21766208)\n",
    "    atoms_pyxtal_scaled = AseAtomsAdaptor.get_atoms(strc_pre_pymatgen)\n",
    "    # wdir = save_dir+'z_{}'.format(z)\n",
    "    if not os.path.exists(wdir):\n",
    "        os.makedirs(wdir)\n",
    "    # fix cell relaxation\n",
    "    strc_relax_fixcell = ase_relaxer(\n",
    "        atoms_in=atoms_pyxtal_scaled,\n",
    "        calculator=calculator,\n",
    "        cell_filter=None,\n",
    "        logfile=wdir+\"/strc_volume-scaled_fix-cell_relaxed_atomic_postitions.log\",\n",
    "        wdir=wdir\n",
    "    )\n",
    "\n",
    "    # relax both cell and atoms\n",
    "    strc_relax_cell = ase_relaxer(\n",
    "        atoms_in=strc_relax_fixcell,\n",
    "        calculator=calculator,\n",
    "        cell_filter=ExpCellFilter,\n",
    "        fix_fractional=False,\n",
    "        logfile=wdir+\"/strc_volume-scaled_relax_postitions_and_cell.log\",\n",
    "        wdir=wdir\n",
    "    )\n",
    "    \n",
    "    return strc_relax_fixcell, strc_relax_cell"
   ]
  },
  {
   "cell_type": "code",
   "execution_count": 10,
   "id": "ddd7a54f-82b5-4da4-bf87-009a35ffc886",
   "metadata": {},
   "outputs": [],
   "source": [
    "import warnings\n",
    "warnings.filterwarnings('ignore')"
   ]
  },
  {
   "cell_type": "code",
   "execution_count": 11,
   "id": "62cdb99b-398e-4bd7-a639-508ebde23db7",
   "metadata": {
    "scrolled": true
   },
   "outputs": [
    {
     "name": "stdout",
     "output_type": "stream",
     "text": [
      "Running z=3 for RbBiTe2\n",
      "Structure DoF = 3\n",
      "Structure DoF = 3\n",
      "Structure DoF = 3\n",
      "Structure DoF = 3\n",
      "Structure DoF = 3\n",
      "Structure DoF = 3\n",
      "-------------------------------------------------------------------\n"
     ]
    }
   ],
   "source": [
    "structures_result = []\n",
    "structures = []\n",
    "lat_volume = []\n",
    "all_predicted_volume = []\n",
    "all_m3gnet_volume = [] \n",
    "all_m3gnet_energy = [] \n",
    "ind_lst = []\n",
    "z_lst = []\n",
    "all_strc_m3gnet = {}\n",
    "# all_vasp_volume = []\n",
    "# all_Dof = []\n",
    "# min_z = 10\n",
    "# max_z = 12\n",
    "\n",
    "for i in range(min_z, max_z):\n",
    "    z = int(i)\n",
    "    print('Running z={} for {}'.format(z,test_formula))\n",
    "\n",
    "    for ind in range(6):\n",
    "        # generate from pyxtal\n",
    "        strc_pre_pymatgen = get_pyxtal_structure(species,test_sg,test_ratio,z,test_wyckoff,test_lattice)\n",
    "        # if not test_volume==None:\n",
    "        #     strc_pre_pymatgen = scale_volume(strc_pre_pymatgen, test_volume)\n",
    "        \n",
    "        if not strc_pre_pymatgen:\n",
    "            print('-------------------------------------------------------------------')\n",
    "            break\n",
    "            \n",
    "        # m3gnet relax\n",
    "        wdir = save_dir+'z_{}_{}'.format(z,ind)\n",
    "        strc_relax_fixcell, strc_relax_cell = ase_m3gnet_relax(wdir,z,strc_pre_pymatgen)\n",
    "        \n",
    "        # compare m3gnet and DFT relaxed structure\n",
    "        ind_lst.append('z_{}_{}'.format(z,ind))\n",
    "        z_lst.append(z)\n",
    "        all_m3gnet_energy.append(strc_relax_cell.get_potential_energy()/len(strc_relax_cell))\n",
    "        strc_m3gnet = AseAtomsAdaptor.get_structure(strc_relax_cell)\n",
    "        strc_m3gnet = SpacegroupAnalyzer(structure=strc_m3gnet #, symprec=0.1\n",
    "                      ).get_conventional_standard_structure()\n",
    "        all_m3gnet_volume.append(strc_m3gnet.volume)\n",
    "        # reduced_formula = strc_relax_cell.get_chemical_formula(mode=\"metal\", empirical=True)\n",
    "        all_strc_m3gnet['z_{}_{}'.format(z,ind)] = strc_m3gnet\n",
    "    \n",
    "    if strc_pre_pymatgen:\n",
    "        print('-------------------------------------------------------------------')\n",
    "        continue\n"
   ]
  },
  {
   "cell_type": "code",
   "execution_count": 12,
   "id": "7c47e4b4-605d-4be4-8d80-79b640d886d3",
   "metadata": {
    "scrolled": true
   },
   "outputs": [
    {
     "data": {
      "text/html": [
       "<div>\n",
       "<style scoped>\n",
       "    .dataframe tbody tr th:only-of-type {\n",
       "        vertical-align: middle;\n",
       "    }\n",
       "\n",
       "    .dataframe tbody tr th {\n",
       "        vertical-align: top;\n",
       "    }\n",
       "\n",
       "    .dataframe thead th {\n",
       "        text-align: right;\n",
       "    }\n",
       "</style>\n",
       "<table border=\"1\" class=\"dataframe\">\n",
       "  <thead>\n",
       "    <tr style=\"text-align: right;\">\n",
       "      <th></th>\n",
       "      <th>ind</th>\n",
       "      <th>total_energy_per_atom</th>\n",
       "      <th>z_value</th>\n",
       "    </tr>\n",
       "  </thead>\n",
       "  <tbody>\n",
       "    <tr>\n",
       "      <th>3</th>\n",
       "      <td>z_3_3</td>\n",
       "      <td>-3.413836</td>\n",
       "      <td>3</td>\n",
       "    </tr>\n",
       "    <tr>\n",
       "      <th>5</th>\n",
       "      <td>z_3_5</td>\n",
       "      <td>-3.413743</td>\n",
       "      <td>3</td>\n",
       "    </tr>\n",
       "    <tr>\n",
       "      <th>0</th>\n",
       "      <td>z_3_0</td>\n",
       "      <td>-3.405516</td>\n",
       "      <td>3</td>\n",
       "    </tr>\n",
       "    <tr>\n",
       "      <th>4</th>\n",
       "      <td>z_3_4</td>\n",
       "      <td>-3.270600</td>\n",
       "      <td>3</td>\n",
       "    </tr>\n",
       "    <tr>\n",
       "      <th>1</th>\n",
       "      <td>z_3_1</td>\n",
       "      <td>-3.270060</td>\n",
       "      <td>3</td>\n",
       "    </tr>\n",
       "    <tr>\n",
       "      <th>2</th>\n",
       "      <td>z_3_2</td>\n",
       "      <td>-3.221465</td>\n",
       "      <td>3</td>\n",
       "    </tr>\n",
       "  </tbody>\n",
       "</table>\n",
       "</div>"
      ],
      "text/plain": [
       "     ind  total_energy_per_atom  z_value\n",
       "3  z_3_3              -3.413836        3\n",
       "5  z_3_5              -3.413743        3\n",
       "0  z_3_0              -3.405516        3\n",
       "4  z_3_4              -3.270600        3\n",
       "1  z_3_1              -3.270060        3\n",
       "2  z_3_2              -3.221465        3"
      ]
     },
     "execution_count": 12,
     "metadata": {},
     "output_type": "execute_result"
    }
   ],
   "source": [
    "df_result = pd.DataFrame({'ind':ind_lst,'total_energy_per_atom':all_m3gnet_energy,'z_value':z_lst})\n",
    "df_result.sort_values(by='total_energy_per_atom')"
   ]
  },
  {
   "cell_type": "code",
   "execution_count": 13,
   "id": "127c0ea3-0759-4571-b677-7c2ed0ab9a6c",
   "metadata": {},
   "outputs": [],
   "source": [
    "df_result.to_csv(save_dir+'/total_energy.csv')"
   ]
  },
  {
   "cell_type": "code",
   "execution_count": 14,
   "id": "7c9a4735-0c24-4e2d-9ab2-9021918941c2",
   "metadata": {},
   "outputs": [
    {
     "data": {
      "text/plain": [
       "True"
      ]
     },
     "execution_count": 14,
     "metadata": {},
     "output_type": "execute_result"
    }
   ],
   "source": [
    "test_volume==None or test_lattice==None"
   ]
  },
  {
   "cell_type": "code",
   "execution_count": 15,
   "id": "b5c352d4-1ac5-4a4a-ad5b-5556d2bba0d3",
   "metadata": {},
   "outputs": [],
   "source": [
    "import seaborn as sns"
   ]
  },
  {
   "cell_type": "code",
   "execution_count": 16,
   "id": "a8d36e9a-ba47-4a40-8ce6-8c699883373e",
   "metadata": {},
   "outputs": [
    {
     "data": {
      "text/plain": [
       "<Axes: xlabel='z_value', ylabel='total_energy_per_atom'>"
      ]
     },
     "execution_count": 16,
     "metadata": {},
     "output_type": "execute_result"
    },
    {
     "data": {
      "image/png": "[encoded data removed]",
      "text/plain": [
       "<Figure size 640x480 with 1 Axes>"
      ]
     },
     "metadata": {},
     "output_type": "display_data"
    }
   ],
   "source": [
    "sns.scatterplot(data=df_result,x='z_value',y='total_energy_per_atom')"
   ]
  },
  {
   "cell_type": "code",
   "execution_count": 18,
   "id": "3efef724-06a5-42cf-a67b-57e253773b10",
   "metadata": {},
   "outputs": [
    {
     "data": {
      "text/plain": [
       "True"
      ]
     },
     "execution_count": 18,
     "metadata": {},
     "output_type": "execute_result"
    }
   ],
   "source": [
    "from pymatgen.analysis import structure_matcher\n",
    "struturetest = structure_matcher.StructureMatcher()\n",
    "struturetest.fit(struct1=strc_m3gnet,struct2=strc_mp)"
   ]
  },
  {
   "cell_type": "code",
   "execution_count": 17,
   "id": "b67dd9c8-0db3-4d89-8e1b-36df5a24d888",
   "metadata": {},
   "outputs": [],
   "source": [
    "strc_m3gnet = SpacegroupAnalyzer(structure=Structure.from_file('temp_files/RbBiTe2_example/z_3_4/BiRbTe2_Bi3Rb3Te6_relax_postitions_and_cell_20240301173605.cif') #, symprec=0.1\n",
    "                  ).get_conventional_standard_structure()\n",
    "strc_mp = SpacegroupAnalyzer(structure=Structure.from_file('temp_files/RbBiTe2_example/POSCAR_RbBiTe2_precise') #, symprec=0.1\n",
    "                  ).get_conventional_standard_structure()"
   ]
  },
  {
   "cell_type": "code",
   "execution_count": null,
   "id": "4c59fad1-42ec-4b57-adc7-331283ef9fcd",
   "metadata": {},
   "outputs": [],
   "source": []
  },
  {
   "cell_type": "code",
   "execution_count": null,
   "id": "d0aa9c30-7f7f-47e1-b1b6-df873a9d0256",
   "metadata": {},
   "outputs": [],
   "source": []
  },
  {
   "cell_type": "code",
   "execution_count": null,
   "id": "e7cb62cd-2cd9-440f-8756-03f851576bfd",
   "metadata": {},
   "outputs": [],
   "source": []
  },
  {
   "cell_type": "code",
   "execution_count": null,
   "id": "21081018-8149-4f79-803e-aa7344b1cb7a",
   "metadata": {},
   "outputs": [],
   "source": []
  },
  {
   "cell_type": "code",
   "execution_count": null,
   "id": "3115798e-4d76-4530-8a51-c51dedfcc287",
   "metadata": {},
   "outputs": [],
   "source": []
  },
  {
   "cell_type": "code",
   "execution_count": null,
   "id": "9e58d796-3595-4449-847b-afabd9d4d3c4",
   "metadata": {},
   "outputs": [],
   "source": []
  }
 ],
 "metadata": {
  "kernelspec": {
   "display_name": "Python 3 (ipykernel)",
   "language": "python",
   "name": "python3"
  },
  "language_info": {
   "codemirror_mode": {
    "name": "ipython",
    "version": 3
   },
   "file_extension": ".py",
   "mimetype": "text/x-python",
   "name": "python",
   "nbconvert_exporter": "python",
   "pygments_lexer": "ipython3",
   "version": "3.9.13"
  }
 },
 "nbformat": 4,
 "nbformat_minor": 5
}
