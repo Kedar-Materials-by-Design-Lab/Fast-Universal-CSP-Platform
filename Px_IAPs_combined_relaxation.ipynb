{
 "cells": [
  {
   "cell_type": "code",
   "execution_count": 1,
   "id": "8ce686c9-8eab-4813-99c9-fb5adac4b195",
   "metadata": {},
   "outputs": [
    {
     "name": "stdout",
     "output_type": "stream",
     "text": [
      "2.0.1+cpu\n"
     ]
    }
   ],
   "source": [
    "from pyxtal import pyxtal\n",
    "from pyxtal.lattice import Lattice\n",
    "from pymatgen.core import Structure\n",
    "import pandas as pd\n",
    "import numpy as np\n",
    "import json\n",
    "from pyxtal.tolerance import Tol_matrix\n",
    "from datetime import datetime\n",
    "import os\n",
    "from pymatgen.analysis.structure_analyzer import SpacegroupAnalyzer\n",
    "from ase.io import read\n",
    "import matgl\n",
    "from matgl.ext.ase import M3GNetCalculator #, Relaxer\n",
    "import mace\n",
    "from mace.calculators import mace_mp\n",
    "from chgnet.model import CHGNet\n",
    "from chgnet.model import CHGNetCalculator\n",
    "\n",
    "from ase.spacegroup.symmetrize import FixSymmetry\n",
    "from ase.optimize import FIRE\n",
    "from ase.constraints import ExpCellFilter\n",
    "from ase import Atoms\n",
    "from ase.calculators.calculator import Calculator\n",
    "from ase.optimize.optimize import Optimizer\n",
    "from ase.optimize import FIRE, LBFGS, BFGSLineSearch\n",
    "from ase.io import read, write\n",
    "from ase.visualize import view\n",
    "from pymatgen.analysis import structure_matcher\n",
    "from pymatgen.io.ase import AseAtomsAdaptor\n",
    "import torch\n",
    "# from ase.visualize import view\n",
    "# import ase.optimize as opt\n",
    "print(torch.__version__)"
   ]
  },
  {
   "cell_type": "markdown",
   "id": "a48f9be1",
   "metadata": {},
   "source": [
    "# Load IAPs"
   ]
  },
  {
   "cell_type": "code",
   "execution_count": 2,
   "id": "2abf3f89",
   "metadata": {},
   "outputs": [
    {
     "name": "stdout",
     "output_type": "stream",
     "text": [
      "Using Materials Project MACE for MACECalculator with C:\\Users\\Raymo/.cache/mace/5yyxdm76\n",
      "Using float32 for MACECalculator, which is faster but less accurate. Recommended for MD. Use float64 for geometry optimization.\n",
      "Default dtype float32 does not match model dtype float64, converting models to float32.\n"
     ]
    }
   ],
   "source": [
    "# # Use CHGNET\n",
    "# calculator = CHGNetCalculator()\n",
    "\n",
    "# Use MACE\n",
    "calculator = mace_mp(model=\"medium\", dispersion=False, default_dtype=\"float32\", device='cpu')\n",
    "\n",
    "# # Use M3GNET\n",
    "# pot = matgl.load_model(\"M3GNet-MP-2021.2.8-PES\")\n",
    "# calculator = M3GNetCalculator(potential=pot,stress_weight=1 / 160.21766208)"
   ]
  },
  {
   "cell_type": "markdown",
   "id": "b03e1793-e2c2-4217-8eb5-120082a97703",
   "metadata": {},
   "source": [
    "# Load data"
   ]
  },
  {
   "cell_type": "code",
   "execution_count": 3,
   "id": "2f52cdb3-4ceb-43a0-9e6d-e81aaa211c4a",
   "metadata": {
    "scrolled": true
   },
   "outputs": [
    {
     "data": {
      "text/plain": [
       "['1174', '1375']"
      ]
     },
     "execution_count": 3,
     "metadata": {},
     "output_type": "execute_result"
    }
   ],
   "source": [
    "# get all dft_relaxed index\n",
    "ind_lst = os.listdir('temp_files/test_compounds/')\n",
    "ind_lst"
   ]
  },
  {
   "cell_type": "code",
   "execution_count": 4,
   "id": "f4aa5a4f-da87-47cb-8a9c-8e218d0244f3",
   "metadata": {},
   "outputs": [],
   "source": [
    "def ase_relaxer(\n",
    "    atoms_in: Atoms,\n",
    "    calculator: Calculator,\n",
    "    optimizer: Optimizer = FIRE,\n",
    "    cell_filter = None,\n",
    "    fix_symmetry: bool = True,\n",
    "    fix_fractional: bool = False,\n",
    "    hydrostatic_strain: bool = False,\n",
    "    fmax: float = 0.05,\n",
    "    steps_limit: int = 500,\n",
    "    logfile: str = \"-\",\n",
    "    wdir: str = \"./\",\n",
    ") -> Atoms:\n",
    "    atoms = atoms_in.copy()\n",
    "    full_formula = atoms.get_chemical_formula(mode=\"metal\")\n",
    "    reduced_formula = atoms.get_chemical_formula(mode=\"metal\", empirical=True)\n",
    "    print(f'relaxing {reduced_formula}_{full_formula}')\n",
    "    atoms.calc = calculator\n",
    "    E0 = atoms.get_potential_energy()\n",
    "    if fix_fractional:\n",
    "        atoms.set_constraint([FixAtoms(indices=[atom.index for atom in atoms])])\n",
    "    if fix_symmetry:\n",
    "        atoms.set_constraint([FixSymmetry(atoms)])\n",
    "    if cell_filter is not None:\n",
    "        target = cell_filter(atoms, hydrostatic_strain=hydrostatic_strain)\n",
    "    else:\n",
    "        target = atoms\n",
    "    now = datetime.now()\n",
    "    strnow = now.strftime(\"%Y%m%d%H%M%S\")\n",
    "    opt = optimizer(target,\n",
    "#                     maxstep = max_step,\n",
    "                    trajectory=f'{wdir}/{reduced_formula}_{full_formula}_{strnow}.traj',\n",
    "                    logfile=logfile,\n",
    "                   )\n",
    "    opt.run(fmax=fmax, steps=steps_limit)\n",
    "    if cell_filter is None:\n",
    "        write(filename=f'{wdir}/{reduced_formula}_{full_formula}_fix_cell_relaxed_{strnow}.cif',\n",
    "          images=atoms,\n",
    "         format=\"cif\",\n",
    "         )\n",
    "    else:\n",
    "        write(filename=f'{wdir}/{reduced_formula}_{full_formula}_relax_postitions_and_cell_{strnow}.cif',\n",
    "          images=atoms,\n",
    "         format=\"cif\",\n",
    "         )\n",
    "    cell_diff = (atoms.cell.cellpar() / atoms_in.cell.cellpar() - 1.0) * 100\n",
    "    E1 = atoms.get_potential_energy()\n",
    "    # print(\"Optimized Cell         :\", atoms.cell.cellpar())\n",
    "    # print(\"Optimized Cell diff (%):\", cell_diff)\n",
    "    # print(\"Scaled positions       :\\n\", atoms.get_scaled_positions())\n",
    "    # print(f\"Potential energy before opt: {E0:.4f} eV\")\n",
    "    # print(f\"Potential energy after  opt: {E1:.4f} eV\")\n",
    "    \n",
    "    return atoms"
   ]
  },
  {
   "cell_type": "code",
   "execution_count": 5,
   "id": "c72e1ce4-d4eb-4279-a8a8-53a9469484a4",
   "metadata": {},
   "outputs": [],
   "source": [
    "def ase_iaps_relax(test_ind,strc_pre_scaled,calculator):\n",
    "    # ase_relaxation\n",
    "    atoms_pyxtal_scaled = AseAtomsAdaptor.get_atoms(strc_pre_scaled)\n",
    "    wdir = \"temp_files/test_compounds/{}\".format(str(test_ind))\n",
    "    # fix cell relaxation\n",
    "    strc_relax_fixcell = ase_relaxer(\n",
    "        atoms_in=atoms_pyxtal_scaled,\n",
    "        calculator=calculator,\n",
    "        cell_filter=None,\n",
    "        logfile=wdir+\"/strc_volume-scaled_fix-cell_relaxed_atomic_postitions.log\",\n",
    "        wdir=wdir\n",
    "    )\n",
    "\n",
    "    # relax both cell and atoms\n",
    "    strc_relax_cell = ase_relaxer(\n",
    "        atoms_in=strc_relax_fixcell,\n",
    "        calculator=calculator,\n",
    "        cell_filter=ExpCellFilter,\n",
    "        fix_fractional=False,\n",
    "        logfile=wdir+\"/strc_volume-scaled_relax_postitions_and_cell.log\",\n",
    "        wdir=wdir\n",
    "    )\n",
    "    \n",
    "    return strc_relax_cell"
   ]
  },
  {
   "cell_type": "code",
   "execution_count": 6,
   "id": "ddd7a54f-82b5-4da4-bf87-009a35ffc886",
   "metadata": {},
   "outputs": [],
   "source": [
    "import warnings\n",
    "warnings.filterwarnings('ignore')"
   ]
  },
  {
   "cell_type": "code",
   "execution_count": 7,
   "id": "62cdb99b-398e-4bd7-a639-508ebde23db7",
   "metadata": {
    "scrolled": true
   },
   "outputs": [
    {
     "name": "stdout",
     "output_type": "stream",
     "text": [
      "test_ind :  1174\n",
      "relaxing CaTiO3_Ca4Ti4O12\n",
      "relaxing CaTiO3_Ca4Ti4O12\n",
      "-----------------------------------------------\n",
      "test_ind :  1375\n",
      "relaxing CaTiO3_Ca4Ti4O12\n",
      "relaxing CaTiO3_Ca4Ti4O12\n",
      "-----------------------------------------------\n"
     ]
    }
   ],
   "source": [
    "all_strc_relaxed = {}\n",
    "\n",
    "for i in ind_lst[:]:\n",
    "    test_ind = int(i)\n",
    "    print('test_ind',': ', test_ind)\n",
    "    \n",
    "    # read from past file\n",
    "    wdir = \"temp_files/test_compounds/{}\".format(str(test_ind))\n",
    "    file_name = os.listdir(wdir)[0]\n",
    "    strc_pre_set = Structure.from_file(wdir+'/'+file_name)\n",
    "\n",
    "    # ase_IAPs relax\n",
    "    strc_relax_cell = ase_iaps_relax(test_ind,strc_pre_set,calculator)\n",
    "    strc_relaxed = AseAtomsAdaptor.get_structure(strc_relax_cell)\n",
    "    strc_relaxed = SpacegroupAnalyzer(structure=strc_relaxed #, symprec=0.1\n",
    "                  ).get_conventional_standard_structure()\n",
    "    all_strc_relaxed[test_ind] = strc_relaxed\n",
    "\n",
    "    print('-----------------------------------------------')\n"
   ]
  },
  {
   "cell_type": "code",
   "execution_count": 8,
   "id": "b4c6131d-1353-4a93-bc4d-bfc9dbb68c44",
   "metadata": {},
   "outputs": [
    {
     "data": {
      "text/plain": [
       "{1174: Structure Summary\n",
       " Lattice\n",
       "     abc : 5.399744914149461 5.507340693044186 7.690220209620782\n",
       "  angles : 90.0 90.0 90.0\n",
       "  volume : 228.69357500915558\n",
       "       A : 5.399744914149461 0.0 3.3063901626626687e-16\n",
       "       B : 8.85647930797018e-16 5.507340693044186 3.372273575775264e-16\n",
       "       C : 0.0 0.0 7.690220209620782\n",
       "     pbc : True True True\n",
       " PeriodicSite: Ca (3.427, 4.372, 4.775e-16) [0.6346, 0.7938, 0.0]\n",
       " PeriodicSite: Ca (0.8283, 1.617, 1.497e-16) [0.1534, 0.2936, 0.0]\n",
       " PeriodicSite: Ca (0.7267, 1.135, 3.845) [0.1346, 0.2062, 0.5]\n",
       " PeriodicSite: Ca (3.528, 3.89, 3.845) [0.6534, 0.7064, 0.5]\n",
       " PeriodicSite: Ti (3.486, 1.377, 1.925) [0.6457, 0.25, 0.2503]\n",
       " PeriodicSite: Ti (0.7866, 4.131, 5.77) [0.1457, 0.75, 0.7503]\n",
       " PeriodicSite: Ti (3.486, 1.377, 5.765) [0.6457, 0.25, 0.7497]\n",
       " PeriodicSite: Ti (0.7866, 4.131, 1.92) [0.1457, 0.75, 0.2497]\n",
       " PeriodicSite: O (4.6, 5.285, 2.23) [0.8518, 0.9596, 0.29]\n",
       " PeriodicSite: O (4.6, 5.285, 5.46) [0.8518, 0.9596, 0.71]\n",
       " PeriodicSite: O (3.058, 1.491, 3.845) [0.5664, 0.2708, 0.5]\n",
       " PeriodicSite: O (5.043, 2.529, 2.231) [0.934, 0.4592, 0.2901]\n",
       " PeriodicSite: O (1.9, 0.2225, 6.075) [0.3518, 0.04039, 0.79]\n",
       " PeriodicSite: O (5.043, 2.529, 5.459) [0.934, 0.4592, 0.7099]\n",
       " PeriodicSite: O (3.889, 1.262, 3.154e-16) [0.7201, 0.2291, 0.0]\n",
       " PeriodicSite: O (2.343, 2.979, 1.614) [0.434, 0.5408, 0.2099]\n",
       " PeriodicSite: O (1.9, 0.2225, 1.615) [0.3518, 0.04039, 0.21]\n",
       " PeriodicSite: O (1.189, 4.246, 3.845) [0.2201, 0.7709, 0.5]\n",
       " PeriodicSite: O (0.3585, 4.016, 2.679e-16) [0.06638, 0.7292, 0.0]\n",
       " PeriodicSite: O (2.343, 2.979, 6.076) [0.434, 0.5408, 0.7901],\n",
       " 1375: Structure Summary\n",
       " Lattice\n",
       "     abc : 5.399108749535183 5.505701296348598 7.6871871956421645\n",
       "  angles : 90.0 90.0 90.0\n",
       "  volume : 228.50840443377496\n",
       "       A : 5.399108749535183 0.0 3.3060006241833655e-16\n",
       "       B : 8.853842957012201e-16 5.505701296348598 3.371269734817372e-16\n",
       "       C : 0.0 0.0 7.6871871956421645\n",
       "     pbc : True True True\n",
       " PeriodicSite: Ca (0.04949, 2.512, 7.016) [0.009166, 0.4562, 0.9127]\n",
       " PeriodicSite: Ca (2.749, 0.241, 3.173) [0.5092, 0.04377, 0.4127]\n",
       " PeriodicSite: Ca (2.65, 5.265, 7.016) [0.4908, 0.9562, 0.9127]\n",
       " PeriodicSite: Ca (5.35, 2.994, 3.173) [0.9908, 0.5438, 0.4127]\n",
       " PeriodicSite: Ti (0.002698, 0.0006324, 1.254) [0.0004997, 0.0001149, 0.1631]\n",
       " PeriodicSite: Ti (5.396, 5.505, 5.097) [0.9995, 0.9999, 0.6631]\n",
       " PeriodicSite: Ti (2.702, 2.752, 5.097) [0.5005, 0.4999, 0.6631]\n",
       " PeriodicSite: Ti (2.697, 2.753, 1.254) [0.4995, 0.5001, 0.1631]\n",
       " PeriodicSite: O (2.276, 2.638, 3.172) [0.4215, 0.4792, 0.4126]\n",
       " PeriodicSite: O (3.823, 4.355, 1.563) [0.708, 0.791, 0.2033]\n",
       " PeriodicSite: O (4.275, 1.603, 4.778) [0.7917, 0.2911, 0.6216]\n",
       " PeriodicSite: O (4.276, 1.602, 1.563) [0.792, 0.291, 0.2033]\n",
       " PeriodicSite: O (1.576, 1.151, 5.406) [0.292, 0.209, 0.7033]\n",
       " PeriodicSite: O (3.123, 2.867, 7.015) [0.5785, 0.5208, 0.9126]\n",
       " PeriodicSite: O (1.123, 3.904, 5.406) [0.208, 0.709, 0.7033]\n",
       " PeriodicSite: O (0.4239, 5.391, 3.172) [0.07851, 0.9792, 0.4126]\n",
       " PeriodicSite: O (1.575, 1.15, 0.9344) [0.2917, 0.2089, 0.1216]\n",
       " PeriodicSite: O (3.824, 4.356, 4.778) [0.7083, 0.7911, 0.6216]\n",
       " PeriodicSite: O (1.125, 3.903, 0.9344) [0.2083, 0.7089, 0.1216]\n",
       " PeriodicSite: O (4.975, 0.1145, 7.015) [0.9215, 0.02079, 0.9126]}"
      ]
     },
     "execution_count": 8,
     "metadata": {},
     "output_type": "execute_result"
    }
   ],
   "source": [
    "all_strc_relaxed"
   ]
  },
  {
   "cell_type": "code",
   "execution_count": null,
   "id": "29f6ea18-4a74-4020-8599-08f2ca601a10",
   "metadata": {},
   "outputs": [],
   "source": []
  }
 ],
 "metadata": {
  "kernelspec": {
   "display_name": "Python 3 (ipykernel)",
   "language": "python",
   "name": "python3"
  },
  "language_info": {
   "codemirror_mode": {
    "name": "ipython",
    "version": 3
   },
   "file_extension": ".py",
   "mimetype": "text/x-python",
   "name": "python",
   "nbconvert_exporter": "python",
   "pygments_lexer": "ipython3",
   "version": "3.9.13"
  }
 },
 "nbformat": 4,
 "nbformat_minor": 5
}
